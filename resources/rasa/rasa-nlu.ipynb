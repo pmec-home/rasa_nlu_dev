{
 "cells": [
  {
   "cell_type": "code",
   "execution_count": 1,
   "metadata": {},
   "outputs": [],
   "source": [
    "from rasa_nlu.training_data import load_data\n",
    "from rasa_nlu.model import Trainer, Interpreter\n",
    "from rasa_nlu import config\n",
    "import json\n",
    "\n",
    "def test_train_and_persist():\n",
    "    training_data = load_data(\"data/nlu_data.md\")\n",
    "    trainer = Trainer(config.load(\"nlu_config.yml\"))\n",
    "    interpreter = trainer.train(training_data)\n",
    "    test_interpreter_dir = trainer.persist(\"./tests/models\", project_name=\"nlu\")\n",
    "    parsing = interpreter.parse('hello')\n",
    "\n",
    "    assert parsing['intent']['name'] == 'greet'\n",
    "    assert test_interpreter_dir"
   ]
  },
  {
   "cell_type": "code",
   "execution_count": 12,
   "metadata": {},
   "outputs": [
    {
     "name": "stderr",
     "output_type": "stream",
     "text": [
      "Epochs: 100%|██████████| 300/300 [03:07<00:00,  1.94it/s, loss=0.024, acc=0.997]\n"
     ]
    }
   ],
   "source": [
    "training_data = load_data(\"data/nlu_data.md\")\n",
    "trainer = Trainer(config.load(\"nlu_config.yml\"))\n",
    "interpreter = trainer.train(training_data)\n",
    "test_interpreter_dir = trainer.persist(\"./models/current\", project_name=\"nlu\")"
   ]
  },
  {
   "cell_type": "code",
   "execution_count": 8,
   "metadata": {},
   "outputs": [
    {
     "name": "stdout",
     "output_type": "stream",
     "text": [
      "INFO:tensorflow:Restoring parameters from ./models/current/nlu/intent_classifier_tensorflow_embedding.ckpt\n"
     ]
    }
   ],
   "source": [
    "interpreter = Interpreter.load(\"./models/current/nlu/\")\n",
    "def parse(message):\n",
    "    result = interpreter.parse(message) \n",
    "    print(json.dumps(result, indent=2))\n",
    "    return result"
   ]
  },
  {
   "cell_type": "code",
   "execution_count": 9,
   "metadata": {},
   "outputs": [
    {
     "name": "stdout",
     "output_type": "stream",
     "text": [
      "{\n",
      "  \"intent\": {\n",
      "    \"name\": \"move\",\n",
      "    \"confidence\": 0.9574838876724243\n",
      "  },\n",
      "  \"entities\": [\n",
      "    {\n",
      "      \"start\": 6,\n",
      "      \"end\": 8,\n",
      "      \"value\": \"me\",\n",
      "      \"entity\": \"pronoun_person\",\n",
      "      \"confidence\": 0.9759020151148314,\n",
      "      \"extractor\": \"ner_crf\"\n",
      "    }\n",
      "  ],\n",
      "  \"intent_ranking\": [\n",
      "    {\n",
      "      \"name\": \"move\",\n",
      "      \"confidence\": 0.9574838876724243\n",
      "    },\n",
      "    {\n",
      "      \"name\": \"follow\",\n",
      "      \"confidence\": 0.05777204781770706\n",
      "    },\n",
      "    {\n",
      "      \"name\": \"stop\",\n",
      "      \"confidence\": 0.0\n",
      "    },\n",
      "    {\n",
      "      \"name\": \"negative\",\n",
      "      \"confidence\": 0.0\n",
      "    },\n",
      "    {\n",
      "      \"name\": \"bye\",\n",
      "      \"confidence\": 0.0\n",
      "    },\n",
      "    {\n",
      "      \"name\": \"affirmative\",\n",
      "      \"confidence\": 0.0\n",
      "    },\n",
      "    {\n",
      "      \"name\": \"start\",\n",
      "      \"confidence\": 0.0\n",
      "    },\n",
      "    {\n",
      "      \"name\": \"greet\",\n",
      "      \"confidence\": 0.0\n",
      "    }\n",
      "  ],\n",
      "  \"text\": \"go to me\"\n",
      "}\n"
     ]
    }
   ],
   "source": [
    "x = parse('go to me')"
   ]
  },
  {
   "cell_type": "code",
   "execution_count": 13,
   "metadata": {},
   "outputs": [
    {
     "data": {
      "text/plain": [
       "True"
      ]
     },
     "execution_count": 13,
     "metadata": {},
     "output_type": "execute_result"
    }
   ],
   "source": [
    "nlu_result = x\n",
    "slot = 'me'\n",
    "present = False\n",
    "for entity in nlu_result['entities']:\n",
    "    if(entity['value'] == slot or entity['entity'] == slot):\n",
    "        present = True\n",
    "present"
   ]
  },
  {
   "cell_type": "code",
   "execution_count": 12,
   "metadata": {},
   "outputs": [
    {
     "data": {
      "text/plain": [
       "{'start': 6,\n",
       " 'end': 8,\n",
       " 'value': 'me',\n",
       " 'entity': 'pronoun_person',\n",
       " 'confidence': 0.9759020151148314,\n",
       " 'extractor': 'ner_crf'}"
      ]
     },
     "execution_count": 12,
     "metadata": {},
     "output_type": "execute_result"
    }
   ],
   "source": [
    "nlu_result['entities'][0]"
   ]
  },
  {
   "cell_type": "code",
   "execution_count": 7,
   "metadata": {},
   "outputs": [
    {
     "data": {
      "text/plain": [
       "{'reverse': 'backward',\n",
       " 'rear': 'backward',\n",
       " 'rearward': 'backward',\n",
       " 'back': 'backward',\n",
       " 'backwards': 'backward',\n",
       " 'lady': 'female_person',\n",
       " 'girl': 'female_person',\n",
       " 'woman': 'female_person',\n",
       " 'female': 'female_person',\n",
       " 'forth': 'forward',\n",
       " 'front': 'forward',\n",
       " 'along': 'forward',\n",
       " 'onward': 'forward',\n",
       " 'ahead': 'forward',\n",
       " 'boy': 'male_person',\n",
       " 'man': 'male_person',\n",
       " 'gentleman': 'male_person',\n",
       " 'male': 'male_person',\n",
       " 'dude': 'male_person',\n",
       " 'guy': 'male_person',\n",
       " 'pointing to the right': 'pointing left',\n",
       " 'pointing to the left': 'pointing right',\n",
       " 'raising their left arm': 'rising left arm',\n",
       " 'raising their right arm': 'rising right arm'}"
      ]
     },
     "execution_count": 7,
     "metadata": {},
     "output_type": "execute_result"
    }
   ],
   "source": [
    "python -m rasa_nlu.evaluate \\\n",
    "    --data data/rasa_dataset_testing.json \\\n",
    "    --model projects/default/model_201902"
   ]
  },
  {
   "cell_type": "code",
   "execution_count": 4,
   "metadata": {},
   "outputs": [
    {
     "name": "stderr",
     "output_type": "stream",
     "text": [
      "E\n",
      "======================================================================\n",
      "ERROR: /run/user/1001/jupyter/kernel-ed7ebc80-cd8f-4183-a69c-4603559ed7d5 (unittest.loader._FailedTest)\n",
      "----------------------------------------------------------------------\n",
      "AttributeError: module '__main__' has no attribute '/run/user/1001/jupyter/kernel-ed7ebc80-cd8f-4183-a69c-4603559ed7d5'\n",
      "\n",
      "----------------------------------------------------------------------\n",
      "Ran 1 test in 0.002s\n",
      "\n",
      "FAILED (errors=1)\n"
     ]
    },
    {
     "ename": "SystemExit",
     "evalue": "True",
     "output_type": "error",
     "traceback": [
      "An exception has occurred, use %tb to see the full traceback.\n",
      "\u001b[0;31mSystemExit\u001b[0m\u001b[0;31m:\u001b[0m True\n"
     ]
    },
    {
     "name": "stderr",
     "output_type": "stream",
     "text": [
      "/home/eduardo/anaconda3/envs/rasa/lib/python3.6/site-packages/IPython/core/interactiveshell.py:3299: UserWarning: To exit: use 'exit', 'quit', or Ctrl-D.\n",
      "  warn(\"To exit: use 'exit', 'quit', or Ctrl-D.\", stacklevel=1)\n"
     ]
    }
   ],
   "source": [
    "import unittest\n",
    "import pandas\n",
    "\n",
    "class NLUTestCase(unittest.TestCase):\n",
    "    def setUp(self):\n",
    "        self.interpreter = Interpreter.load(\"models/current/nlu/\")\n",
    "        self.tests = pandas.read_csv(\"tests/test_data.csv\", sep=';')\n",
    "\n",
    "    def test_start(self):\n",
    "        print(self.tests)\n",
    "        for index,test in self.tests.iterrows():\n",
    "            result = self.interpreter.parse(test['text'])\n",
    "            print(\"Text: {};\\n    Intent found:{} / Intent target: {}\".format(test['text'], result['intent']['name'], test['intent']))\n",
    "            self.assertEqual(result['intent']['name'], test['intent'])\n",
    "if __name__ == '__main__':\n",
    "    unittest.main()"
   ]
  }
 ],
 "metadata": {
  "kernelspec": {
   "display_name": "Python 3",
   "language": "python",
   "name": "python3"
  },
  "language_info": {
   "codemirror_mode": {
    "name": "ipython",
    "version": 3
   },
   "file_extension": ".py",
   "mimetype": "text/x-python",
   "name": "python",
   "nbconvert_exporter": "python",
   "pygments_lexer": "ipython3",
   "version": "3.6.8"
  }
 },
 "nbformat": 4,
 "nbformat_minor": 2
}
