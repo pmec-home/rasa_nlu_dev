{
 "cells": [
  {
   "cell_type": "code",
   "execution_count": 3,
   "metadata": {},
   "outputs": [],
   "source": [
    "from rasa_nlu.training_data import load_data\n",
    "from rasa_nlu.model import Trainer, Interpreter\n",
    "from rasa_nlu import config\n",
    "import json\n",
    "\n",
    "def test_train_and_persist():\n",
    "    training_data = load_data(\"data/nlu_data.md\")\n",
    "    trainer = Trainer(config.load(\"nlu_config.yml\"))\n",
    "    interpreter = trainer.train(training_data)\n",
    "    test_interpreter_dir = trainer.persist(\"./tests/models\", project_name=\"nlu\")\n",
    "    parsing = interpreter.parse('hello')\n",
    "\n",
    "    assert parsing['intent']['name'] == 'greet'\n",
    "    assert test_interpreter_dir"
   ]
  },
  {
   "cell_type": "code",
   "execution_count": 2,
   "metadata": {},
   "outputs": [
    {
     "ename": "NameError",
     "evalue": "name 'Interpreter' is not defined",
     "output_type": "error",
     "traceback": [
      "\u001b[0;31m---------------------------------------------------------------------------\u001b[0m",
      "\u001b[0;31mNameError\u001b[0m                                 Traceback (most recent call last)",
      "\u001b[0;32m<ipython-input-2-44438cf46fc3>\u001b[0m in \u001b[0;36m<module>\u001b[0;34m()\u001b[0m\n\u001b[1;32m      1\u001b[0m \u001b[0;31m#training_data = load_data(\"data/nlu_data.md\")\u001b[0m\u001b[0;34m\u001b[0m\u001b[0;34m\u001b[0m\u001b[0m\n\u001b[1;32m      2\u001b[0m \u001b[0;31m#trainer = Trainer(config.load(\"nlu_config.yml\"))\u001b[0m\u001b[0;34m\u001b[0m\u001b[0;34m\u001b[0m\u001b[0m\n\u001b[0;32m----> 3\u001b[0;31m \u001b[0minterpreter\u001b[0m \u001b[0;34m=\u001b[0m \u001b[0mInterpreter\u001b[0m\u001b[0;34m.\u001b[0m\u001b[0mload\u001b[0m\u001b[0;34m(\u001b[0m\u001b[0;34m\"./models/current/nlu\"\u001b[0m\u001b[0;34m)\u001b[0m\u001b[0;34m\u001b[0m\u001b[0m\n\u001b[0m\u001b[1;32m      4\u001b[0m \u001b[0mmessage\u001b[0m \u001b[0;34m=\u001b[0m \u001b[0;34m\"let's see some italian restaurants\"\u001b[0m\u001b[0;34m\u001b[0m\u001b[0m\n\u001b[1;32m      5\u001b[0m \u001b[0mresult\u001b[0m \u001b[0;34m=\u001b[0m \u001b[0minterpreter\u001b[0m\u001b[0;34m.\u001b[0m\u001b[0mparse\u001b[0m\u001b[0;34m(\u001b[0m\u001b[0mmessage\u001b[0m\u001b[0;34m)\u001b[0m\u001b[0;34m\u001b[0m\u001b[0m\n",
      "\u001b[0;31mNameError\u001b[0m: name 'Interpreter' is not defined"
     ]
    }
   ],
   "source": [
    "#training_data = load_data(\"data/nlu_data.md\")\n",
    "#trainer = Trainer(config.load(\"nlu_config.yml\"))\n",
    "interpreter = Interpreter.load(\"./models/current/model_20190226-005711/\")\n",
    "message = \"let's see some italian restaurants\"\n",
    "def parse(message):\n",
    "    result = interpreter.parse(message)\n",
    "    print(json.dumps(result, indent=2))"
   ]
  },
  {
   "cell_type": "code",
   "execution_count": 7,
   "metadata": {},
   "outputs": [
    {
     "data": {
      "text/plain": [
       "{'reverse': 'backward',\n",
       " 'rear': 'backward',\n",
       " 'rearward': 'backward',\n",
       " 'back': 'backward',\n",
       " 'backwards': 'backward',\n",
       " 'lady': 'female_person',\n",
       " 'girl': 'female_person',\n",
       " 'woman': 'female_person',\n",
       " 'female': 'female_person',\n",
       " 'forth': 'forward',\n",
       " 'front': 'forward',\n",
       " 'along': 'forward',\n",
       " 'onward': 'forward',\n",
       " 'ahead': 'forward',\n",
       " 'boy': 'male_person',\n",
       " 'man': 'male_person',\n",
       " 'gentleman': 'male_person',\n",
       " 'male': 'male_person',\n",
       " 'dude': 'male_person',\n",
       " 'guy': 'male_person',\n",
       " 'pointing to the right': 'pointing left',\n",
       " 'pointing to the left': 'pointing right',\n",
       " 'raising their left arm': 'rising left arm',\n",
       " 'raising their right arm': 'rising right arm'}"
      ]
     },
     "execution_count": 7,
     "metadata": {},
     "output_type": "execute_result"
    }
   ],
   "source": [
    "python -m rasa_nlu.evaluate \\\n",
    "    --data data/rasa_dataset_testing.json \\\n",
    "    --model projects/default/model_201902"
   ]
  },
  {
   "cell_type": "code",
   "execution_count": 4,
   "metadata": {},
   "outputs": [
    {
     "ename": "ModuleNotFoundError",
     "evalue": "No module named 'tensorflow'",
     "output_type": "error",
     "traceback": [
      "\u001b[0;31m---------------------------------------------------------------------------\u001b[0m",
      "\u001b[0;31mModuleNotFoundError\u001b[0m                       Traceback (most recent call last)",
      "\u001b[0;32m<ipython-input-4-d6579f534729>\u001b[0m in \u001b[0;36m<module>\u001b[0;34m()\u001b[0m\n\u001b[0;32m----> 1\u001b[0;31m \u001b[0;32mimport\u001b[0m \u001b[0mtensorflow\u001b[0m\u001b[0;34m\u001b[0m\u001b[0m\n\u001b[0m",
      "\u001b[0;31mModuleNotFoundError\u001b[0m: No module named 'tensorflow'"
     ]
    }
   ],
   "source": [
    "import tensorflow"
   ]
  }
 ],
 "metadata": {
  "kernelspec": {
   "display_name": "Python 3",
   "language": "python",
   "name": "python3"
  },
  "language_info": {
   "codemirror_mode": {
    "name": "ipython",
    "version": 3
   },
   "file_extension": ".py",
   "mimetype": "text/x-python",
   "name": "python",
   "nbconvert_exporter": "python",
   "pygments_lexer": "ipython3",
   "version": "3.7.0"
  }
 },
 "nbformat": 4,
 "nbformat_minor": 2
}
