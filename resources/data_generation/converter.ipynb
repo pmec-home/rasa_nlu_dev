{
 "cells": [
  {
   "cell_type": "code",
   "execution_count": 16,
   "metadata": {},
   "outputs": [],
   "source": [
    "from rasa_nlu.training_data import load_data\n",
    "# This re-uses the Rasa NLU converters code to turn a JSON Rasa NLU training\n",
    "# file into MD format and save it\n",
    "\n",
    "# Assumes you have Rasa NLU installed :-)\n",
    "\n",
    "# If you want other options, look at the NLU code to work out how to handle them\n",
    "\n",
    "# USE AT YOUR OWN RISK\n",
    "\n",
    "input_training_file = 'output/train/'\n",
    "data = load_data(input_training_file)\n",
    "# *******************************************************\n",
    "# TAKE CARE: output_md_file is overwritten automatically\n",
    "# *******************************************************\n",
    "\n",
    "output_md_file = 'training.md'\n",
    "\n",
    "with open(output_md_file,'w') as f:\n",
    "    f.write(data.as_markdown())"
   ]
  },
  {
   "cell_type": "code",
   "execution_count": 17,
   "metadata": {},
   "outputs": [
    {
     "data": {
      "text/plain": [
       "{'forward': 'up',\n",
       " 'up': 'up',\n",
       " 'front': 'up',\n",
       " 'along': 'up',\n",
       " 'ahead': 'up',\n",
       " 'onward': 'up',\n",
       " 'forth': 'up',\n",
       " 'rear': 'down',\n",
       " 'reverse': 'down',\n",
       " 'back': 'down',\n",
       " 'down': 'down',\n",
       " 'rearward': 'down',\n",
       " 'backwards': 'down',\n",
       " 'backward': 'down',\n",
       " 'male': 'male',\n",
       " 'boy': 'male',\n",
       " 'man': 'male',\n",
       " 'gentleman': 'male',\n",
       " 'dude': 'male',\n",
       " 'guy': 'male',\n",
       " 'girl': 'female',\n",
       " 'female': 'female',\n",
       " 'woman': 'female',\n",
       " 'lady': 'female',\n",
       " 'raising their left arm': 'rising left arm',\n",
       " 'rising left arm': 'rising left arm',\n",
       " 'rising right arm': 'rising right arm',\n",
       " 'raising their right arm': 'rising right arm',\n",
       " 'pointing to the right': 'pointing left',\n",
       " 'pointing left': 'pointing left',\n",
       " 'pointing to the left': 'pointing right',\n",
       " 'pointing right': 'pointing right'}"
      ]
     },
     "execution_count": 17,
     "metadata": {},
     "output_type": "execute_result"
    }
   ],
   "source": [
    "data.entity_synonyms"
   ]
  }
 ],
 "metadata": {
  "kernelspec": {
   "display_name": "Python 3",
   "language": "python",
   "name": "python3"
  },
  "language_info": {
   "codemirror_mode": {
    "name": "ipython",
    "version": 3
   },
   "file_extension": ".py",
   "mimetype": "text/x-python",
   "name": "python",
   "nbconvert_exporter": "python",
   "pygments_lexer": "ipython3",
   "version": "3.6.8"
  }
 },
 "nbformat": 4,
 "nbformat_minor": 2
}
